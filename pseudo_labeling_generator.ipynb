{
 "cells": [
  {
   "cell_type": "code",
   "execution_count": 9,
   "metadata": {},
   "outputs": [],
   "source": [
    "import pandas as pd\n",
    "import numpy as np\n",
    "import json"
   ]
  },
  {
   "cell_type": "code",
   "execution_count": 10,
   "metadata": {},
   "outputs": [],
   "source": [
    "train_dir='dataset/train.json'\n",
    "test_dir='dataset/test.json'\n",
    "\n",
    "with open(train_dir,'r') as f:\n",
    "    train_json=json.loads(f.read())"
   ]
  },
  {
   "cell_type": "code",
   "execution_count": 11,
   "metadata": {},
   "outputs": [],
   "source": [
    "images=train_json['images']\n",
    "categories=train_json['categories']\n",
    "annotations=train_json['annotations']"
   ]
  },
  {
   "cell_type": "code",
   "execution_count": 12,
   "metadata": {},
   "outputs": [],
   "source": [
    "image_id=4883\n",
    "annotation_id=23144\n"
   ]
  },
  {
   "cell_type": "code",
   "execution_count": 13,
   "metadata": {},
   "outputs": [],
   "source": [
    "df=pd.read_csv('submission_latest.csv')"
   ]
  },
  {
   "cell_type": "code",
   "execution_count": 14,
   "metadata": {},
   "outputs": [
    {
     "data": {
      "text/html": [
       "<div>\n",
       "<style scoped>\n",
       "    .dataframe tbody tr th:only-of-type {\n",
       "        vertical-align: middle;\n",
       "    }\n",
       "\n",
       "    .dataframe tbody tr th {\n",
       "        vertical-align: top;\n",
       "    }\n",
       "\n",
       "    .dataframe thead th {\n",
       "        text-align: right;\n",
       "    }\n",
       "</style>\n",
       "<table border=\"1\" class=\"dataframe\">\n",
       "  <thead>\n",
       "    <tr style=\"text-align: right;\">\n",
       "      <th></th>\n",
       "      <th>PredictionString</th>\n",
       "      <th>image_id</th>\n",
       "    </tr>\n",
       "  </thead>\n",
       "  <tbody>\n",
       "    <tr>\n",
       "      <th>0</th>\n",
       "      <td>1 0.95063305 564.0315 109.91781 755.1452 356.9...</td>\n",
       "      <td>test/0000.jpg</td>\n",
       "    </tr>\n",
       "    <tr>\n",
       "      <th>1</th>\n",
       "      <td>0 0.091577046 760.7081 662.1499 899.7078 993.7...</td>\n",
       "      <td>test/0001.jpg</td>\n",
       "    </tr>\n",
       "    <tr>\n",
       "      <th>2</th>\n",
       "      <td>0 0.7963535 874.82513 460.20773 1021.5389 631....</td>\n",
       "      <td>test/0002.jpg</td>\n",
       "    </tr>\n",
       "    <tr>\n",
       "      <th>3</th>\n",
       "      <td>0 0.007802562 159.0056 268.60727 926.0919 816....</td>\n",
       "      <td>test/0003.jpg</td>\n",
       "    </tr>\n",
       "    <tr>\n",
       "      <th>4</th>\n",
       "      <td>0 0.6106009 438.0593 402.93796 653.0327 562.03...</td>\n",
       "      <td>test/0004.jpg</td>\n",
       "    </tr>\n",
       "    <tr>\n",
       "      <th>...</th>\n",
       "      <td>...</td>\n",
       "      <td>...</td>\n",
       "    </tr>\n",
       "    <tr>\n",
       "      <th>4866</th>\n",
       "      <td>0 0.5210052 296.64377 345.87897 667.61536 692....</td>\n",
       "      <td>test/4866.jpg</td>\n",
       "    </tr>\n",
       "    <tr>\n",
       "      <th>4867</th>\n",
       "      <td>0 0.25963947 633.8527 661.5319 780.21027 725.3...</td>\n",
       "      <td>test/4867.jpg</td>\n",
       "    </tr>\n",
       "    <tr>\n",
       "      <th>4868</th>\n",
       "      <td>0 0.2915455 547.4428 525.0939 721.0393 788.941...</td>\n",
       "      <td>test/4868.jpg</td>\n",
       "    </tr>\n",
       "    <tr>\n",
       "      <th>4869</th>\n",
       "      <td>0 0.9882073 11.437236 192.08861 1007.5727 934....</td>\n",
       "      <td>test/4869.jpg</td>\n",
       "    </tr>\n",
       "    <tr>\n",
       "      <th>4870</th>\n",
       "      <td>0 0.13160178 241.35503 821.5597 294.3737 855.1...</td>\n",
       "      <td>test/4870.jpg</td>\n",
       "    </tr>\n",
       "  </tbody>\n",
       "</table>\n",
       "<p>4871 rows × 2 columns</p>\n",
       "</div>"
      ],
      "text/plain": [
       "                                       PredictionString       image_id\n",
       "0     1 0.95063305 564.0315 109.91781 755.1452 356.9...  test/0000.jpg\n",
       "1     0 0.091577046 760.7081 662.1499 899.7078 993.7...  test/0001.jpg\n",
       "2     0 0.7963535 874.82513 460.20773 1021.5389 631....  test/0002.jpg\n",
       "3     0 0.007802562 159.0056 268.60727 926.0919 816....  test/0003.jpg\n",
       "4     0 0.6106009 438.0593 402.93796 653.0327 562.03...  test/0004.jpg\n",
       "...                                                 ...            ...\n",
       "4866  0 0.5210052 296.64377 345.87897 667.61536 692....  test/4866.jpg\n",
       "4867  0 0.25963947 633.8527 661.5319 780.21027 725.3...  test/4867.jpg\n",
       "4868  0 0.2915455 547.4428 525.0939 721.0393 788.941...  test/4868.jpg\n",
       "4869  0 0.9882073 11.437236 192.08861 1007.5727 934....  test/4869.jpg\n",
       "4870  0 0.13160178 241.35503 821.5597 294.3737 855.1...  test/4870.jpg\n",
       "\n",
       "[4871 rows x 2 columns]"
      ]
     },
     "execution_count": 14,
     "metadata": {},
     "output_type": "execute_result"
    }
   ],
   "source": [
    "df"
   ]
  },
  {
   "cell_type": "code",
   "execution_count": 15,
   "metadata": {},
   "outputs": [
    {
     "name": "stdout",
     "output_type": "stream",
     "text": [
      "4883\n",
      "23144\n",
      "9473\n",
      "34627\n"
     ]
    }
   ],
   "source": [
    "p=0.7\n",
    "print(len(images))\n",
    "print(len(annotations))\n",
    "for i in range(len(df)):\n",
    "    nums=(df.iloc[i]['PredictionString'])\n",
    "    nums=nums.split(' ')\n",
    "    nums=nums[:-1]\n",
    "    image_dict={\n",
    "        \"width\": 1024,\n",
    "        \"height\": 1024,\n",
    "        \"file_name\": df.iloc[i]['image_id'],\n",
    "        \"license\": 0,\n",
    "        \"flickr_url\": None,\n",
    "        \"coco_url\": None,\n",
    "        \"date_captured\": \"2020-12-23 16:20:30\",\n",
    "        \"id\": image_id\n",
    "    }\n",
    "    is_data=0\n",
    "    for j in range(len(nums)//6):\n",
    "        if float(nums[j*6+1])>=p:\n",
    "            is_data=1\n",
    "            w=round(float(nums[j*6+4])-float(nums[j*6+2]),1)\n",
    "            h=round(float(nums[j*6+5])-float(nums[j*6+3]),1)\n",
    "            annotation_dict={\n",
    "                \"image_id\": image_id,\n",
    "                \"category_id\": int(nums[j*6]),\n",
    "                \"area\": round(w*h,2),\n",
    "                \"bbox\": [\n",
    "                    round(float(nums[j*6+2]),1),\n",
    "                    round(float(nums[j*6+3]),1),\n",
    "                    w,\n",
    "                    h\n",
    "                ],\n",
    "                \"iscrowd\": 0,\n",
    "                \"id\": annotation_id\n",
    "                }\n",
    "            train_json['annotations'].append(annotation_dict)\n",
    "            annotation_id+=1\n",
    "\n",
    "    if is_data==1:\n",
    "        train_json['images'].append(image_dict)\n",
    "        image_id+=1\n",
    "\n",
    "print(len(images))\n",
    "print(len(annotations))\n"
   ]
  },
  {
   "cell_type": "code",
   "execution_count": 16,
   "metadata": {},
   "outputs": [],
   "source": [
    "with open(f'pseudo/pseudo_train.json','w') as f:\n",
    "    json.dump(train_json,f,ensure_ascii=False,indent=4)\n"
   ]
  },
  {
   "cell_type": "code",
   "execution_count": null,
   "metadata": {},
   "outputs": [],
   "source": []
  }
 ],
 "metadata": {
  "kernelspec": {
   "display_name": "Python 3.7.15 ('detection')",
   "language": "python",
   "name": "python3"
  },
  "language_info": {
   "codemirror_mode": {
    "name": "ipython",
    "version": 3
   },
   "file_extension": ".py",
   "mimetype": "text/x-python",
   "name": "python",
   "nbconvert_exporter": "python",
   "pygments_lexer": "ipython3",
   "version": "3.7.15"
  },
  "orig_nbformat": 4,
  "vscode": {
   "interpreter": {
    "hash": "b94c6de4bce9a87a354a5fa9998691adc0532adddb9d4140f5ba941d00b01fae"
   }
  }
 },
 "nbformat": 4,
 "nbformat_minor": 2
}
